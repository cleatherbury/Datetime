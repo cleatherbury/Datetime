{
 "cells": [
  {
   "cell_type": "code",
   "execution_count": 2,
   "metadata": {},
   "outputs": [
    {
     "name": "stdout",
     "output_type": "stream",
     "text": [
      "2023-08-07\n",
      "2023-08-07 00:00:00\n"
     ]
    }
   ],
   "source": [
    "import datetime\n",
    "date=datetime.datetime\n",
    "str1=datetime.datetime.now()\n",
    "str2=datetime.datetime.strftime(str1, '%Y-%m-%d')\n",
    "print(str2)\n",
    "obj1=date.strptime(str2, '%Y-%m-%d')\n",
    "print(obj1)\n",
    "\n",
    "\n"
   ]
  },
  {
   "cell_type": "code",
   "execution_count": 1,
   "metadata": {},
   "outputs": [
    {
     "name": "stdout",
     "output_type": "stream",
     "text": [
      "2023-08-07\n"
     ]
    }
   ],
   "source": [
    "from datetime import datetime\n",
    "today=datetime.now()\n",
    "print(today.date())\n",
    "\n"
   ]
  },
  {
   "cell_type": "code",
   "execution_count": 3,
   "metadata": {},
   "outputs": [
    {
     "name": "stdout",
     "output_type": "stream",
     "text": [
      "2023-08-07\n",
      "7\n",
      "8\n",
      "2023\n",
      "07\n",
      "08\n",
      "2023\n",
      "August\n",
      "2005-06-14 00:00:00\n",
      "2005\n",
      "6\n",
      "14\n",
      "2023-08-14\n",
      "2006-06-14\n"
     ]
    }
   ],
   "source": [
    "from datetime import date\n",
    "today=date.today()\n",
    "print(today)\n",
    "\n",
    "from datetime import datetime\n",
    "print(today.day)\n",
    "print(today.month)\n",
    "print(today.year)\n",
    "print(today.strftime('%d'))\n",
    "print(today.strftime('%m'))\n",
    "print(today.strftime('%Y'))\n",
    "print(today.strftime('%B'))\n",
    "\n",
    "str1='Jun 14 2005'\n",
    "date1=datetime.strptime(str1, '%b %d %Y')\n",
    "print(date1)\n",
    "print(date1.year)\n",
    "print(date1.month)\n",
    "print(date1.day)\n",
    "\n",
    "from datetime import timedelta\n",
    "import datetime\n",
    "date_after_days=today+timedelta(days=7)\n",
    "print(date_after_days)\n",
    "date2=date1+timedelta(days=365)\n",
    "print(date2.date())\n"
   ]
  }
 ],
 "metadata": {
  "kernelspec": {
   "display_name": "Python 3",
   "language": "python",
   "name": "python3"
  },
  "language_info": {
   "codemirror_mode": {
    "name": "ipython",
    "version": 3
   },
   "file_extension": ".py",
   "mimetype": "text/x-python",
   "name": "python",
   "nbconvert_exporter": "python",
   "pygments_lexer": "ipython3",
   "version": "3.10.1"
  },
  "orig_nbformat": 4
 },
 "nbformat": 4,
 "nbformat_minor": 2
}
